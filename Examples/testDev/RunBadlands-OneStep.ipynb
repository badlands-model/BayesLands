{
 "cells": [
  {
   "cell_type": "code",
   "execution_count": null,
   "metadata": {
    "collapsed": false
   },
   "outputs": [],
   "source": [
    "from ipyparallel import Client\n",
    "import os\n",
    "c = Client(profile='mpi')\n",
    "v = c[:]\n",
    "c.ids"
   ]
  },
  {
   "cell_type": "markdown",
   "metadata": {
    "collapsed": true
   },
   "source": [
    "# Libraries"
   ]
  },
  {
   "cell_type": "code",
   "execution_count": null,
   "metadata": {
    "collapsed": false
   },
   "outputs": [],
   "source": [
    "%%px\n",
    "%matplotlib inline\n",
    "\n",
    "import os\n",
    "import time\n",
    "import shutil\n",
    "import numpy as np\n",
    "import mpi4py.MPI as MPI\n",
    "\n",
    "from matplotlib import cm\n",
    "import matplotlib.pyplot as plt\n",
    "\n",
    "import triangle\n",
    "\n",
    "import pandas\n",
    "\n",
    "from pyBadlands import xmlParser\n",
    "from pyBadlands import FVmethod\n",
    "from pyBadlands import diffLinear\n",
    "from pyBadlands import raster2TIN \n",
    "from pyBadlands import flowNetwork\n",
    "from pyBadlands import elevationTIN\n",
    "from pyBadlands import partitionTIN\n",
    "from pyBadlands import visualiseTIN\n",
    "from pyBadlands import visualiseFlow\n",
    "from pyBadlands import visSurf\n",
    "from pyBadlands import forceSim\n",
    "\n",
    "import warnings\n",
    "warnings.filterwarnings(\"ignore\")\n",
    "\n",
    "# Initialise MPI communications\n",
    "comm = MPI.COMM_WORLD\n",
    "rank = comm.Get_rank()\n",
    "size = comm.Get_size()"
   ]
  },
  {
   "cell_type": "markdown",
   "metadata": {},
   "source": [
    "# Initialisation Phase"
   ]
  },
  {
   "cell_type": "code",
   "execution_count": null,
   "metadata": {
    "collapsed": false
   },
   "outputs": [],
   "source": [
    "%%px\n",
    "Init_time = time.clock()"
   ]
  },
  {
   "cell_type": "code",
   "execution_count": null,
   "metadata": {
    "collapsed": false
   },
   "outputs": [],
   "source": [
    "%%px\n",
    "inputfile = '/home/ubuntu/mpiPyLEM/input0.xml'\n",
    "input = xmlParser.xmlParser(inputfile)"
   ]
  },
  {
   "cell_type": "markdown",
   "metadata": {},
   "source": [
    "## 1. Get DEM regular grid and create Badlands TIN."
   ]
  },
  {
   "cell_type": "code",
   "execution_count": null,
   "metadata": {
    "collapsed": false
   },
   "outputs": [],
   "source": [
    "%%px\n",
    "walltime = time.clock()\n",
    "tNow = input.tStart\n",
    "recGrid = raster2TIN.raster2TIN(input.demfile,input.outDir,rank,areaDelFactor=input.Afactor)\n",
    "\n",
    "fixIDs = recGrid.boundsPt + recGrid.edgesPt\n",
    "force = forceSim.forceSim(input.seafile,input.seapos,input.rainMap,input.rainTime,input.rainVal,\n",
    "    input.tectFile,input.tectTime,recGrid.regX,recGrid.regY,input.tDisplay)\n",
    "\n",
    "if input.disp3d:\n",
    "    force.time3d = input.time3d\n",
    "    if input.merge3d == 0. or input.merge3d > recGrid.resEdges:\n",
    "        force.merge3d = input.Afactor * recGrid.resEdges * 0.5\n",
    "        \n",
    "tinData = np.column_stack((recGrid.tinMesh['vertices'][:,0],\n",
    "    recGrid.tinMesh['vertices'][:,1]))\n",
    "\n",
    "if rank == 0:\n",
    "    print \" - read dataset and perform delaunay triangulation \", time.clock() - walltime"
   ]
  },
  {
   "cell_type": "markdown",
   "metadata": {
    "collapsed": false
   },
   "source": [
    "## 2. Partition the TIN"
   ]
  },
  {
   "cell_type": "code",
   "execution_count": null,
   "metadata": {
    "collapsed": false
   },
   "outputs": [],
   "source": [
    "%%px\n",
    "walltime = time.clock()\n",
    "\n",
    "# Set parameters of the finite volume mesh\n",
    "FVmesh = FVmethod.FVmethod(recGrid.tinMesh['vertices'],\n",
    "                  recGrid.tinMesh['triangles'],\n",
    "                  recGrid.tinMesh['edges'])\n",
    "\n",
    "# Perform partitioning by equivalent domain splitting\n",
    "partitionIDs, RowProc, ColProc = partitionTIN.simple(tinData[:,0], tinData[:,1])\n",
    "FVmesh.partIDs = partitionIDs\n",
    "\n",
    "# Get each partition global node ID\n",
    "inGIDs = np.where(partitionIDs == rank)[0]\n",
    "\n",
    "if rank == 0:\n",
    "    print \" - partition TIN amongst processors \", time.clock() - walltime"
   ]
  },
  {
   "cell_type": "markdown",
   "metadata": {},
   "source": [
    "## 3. Build Finite Volume discretisation"
   ]
  },
  {
   "cell_type": "code",
   "execution_count": null,
   "metadata": {
    "collapsed": false
   },
   "outputs": [],
   "source": [
    "%%px\n",
    "\n",
    "# Define overlapping partitions\n",
    "allIDs, localTIN = partitionTIN.overlap(tinData[:,0], \\\n",
    "    tinData[:,1], RowProc, ColProc, 2*recGrid.resEdges)\n",
    "\n",
    "# Set parameters of the finite volume mesh\n",
    "tMesh = FVmethod.FVmethod(localTIN['vertices'],\n",
    "                  localTIN['triangles'],\n",
    "                  localTIN['edges'])\n",
    "\n",
    "walltime = time.clock()\n",
    "\n",
    "# Define Finite Volume parameters\n",
    "totPts = len(tinData[:,0])\n",
    "FVmesh.neighbours = np.zeros((totPts,20), dtype=np.int) \n",
    "FVmesh.neighbours.fill(-2)\n",
    "FVmesh.edge_lenght = np.zeros((totPts,20), dtype=np.float) \n",
    "FVmesh.vor_edges = np.zeros((totPts,20), dtype=np.float) \n",
    "FVmesh.control_volumes = np.zeros(totPts, dtype=np.float) \n",
    "\n",
    "# Compute Finite Volume parameters\n",
    "tGIDs, tNgbh, tEdgs, tVors, tVols = tMesh.construct_FV(inGIDs, allIDs, \n",
    "                                    totPts, recGrid.resEdges*input.Afactor)\n",
    "\n",
    "FVmesh.neighbours[tGIDs,:tMesh.maxNgbh] = tNgbh\n",
    "FVmesh.edge_lenght[tGIDs,:tMesh.maxNgbh] = tEdgs\n",
    "FVmesh.vor_edges[tGIDs,:tMesh.maxNgbh] = tVors\n",
    "FVmesh.control_volumes[tGIDs] = tVols\n",
    "\n",
    "if rank == 0:\n",
    "    print \" - FV mesh \", time.clock() - walltime"
   ]
  },
  {
   "cell_type": "markdown",
   "metadata": {},
   "source": [
    "## 4. Interpolate elevation"
   ]
  },
  {
   "cell_type": "code",
   "execution_count": null,
   "metadata": {
    "collapsed": false
   },
   "outputs": [],
   "source": [
    "%%px\n",
    "walltime = time.clock()\n",
    "inIDs = np.where(FVmesh.partIDs[recGrid.boundsPt:] == rank)[0]\n",
    "inIDs += recGrid.boundsPt\n",
    " \n",
    "local_elev = np.zeros(totPts)\n",
    "local_elev.fill(-1.e6)\n",
    "local_elev[inIDs] = elevationTIN.getElevation(recGrid.regX, recGrid.regY, \\\n",
    "    recGrid.regZ, FVmesh.node_coords[inIDs,:2])\n",
    "comm.Allreduce(MPI.IN_PLACE, local_elev, op=MPI.MAX)\n",
    "\n",
    "xyMin = [recGrid.regX.min(),recGrid.regY.min()]\n",
    "xyMax = [recGrid.regX.max(),recGrid.regY.max()]\n",
    "\n",
    "elevation = elevationTIN.update_border_elevation(local_elev, \\\n",
    "    FVmesh.neighbours, FVmesh.edge_lenght, recGrid.boundsPt, btype=input.btype)\n",
    "\n",
    "# Define variables\n",
    "cumdiff = np.zeros(totPts)\n",
    "hillslope = diffLinear()\n",
    "hillslope.CDaerial = input.CDa\n",
    "hillslope.CDmarine = input.CDm \n",
    "flow = flowNetwork()\n",
    "flow.erodibility = input.SPLero\n",
    "flow.m = input.SPLm\n",
    "flow.n = input.SPLn\n",
    "flow.mindt = input.minDT\n",
    "    \n",
    "if rank == 0:\n",
    "    print \" - interpolate elevation on grid \", time.clock() - walltime"
   ]
  },
  {
   "cell_type": "code",
   "execution_count": null,
   "metadata": {
    "collapsed": false
   },
   "outputs": [],
   "source": [
    "%%px\n",
    "if rank == 0:\n",
    "    print \" - Initialisation phase \", time.clock() - Init_time"
   ]
  },
  {
   "cell_type": "code",
   "execution_count": null,
   "metadata": {
    "collapsed": false
   },
   "outputs": [],
   "source": [
    "%%px\n",
    "step = 0\n",
    "tNow = input.tStart\n",
    "force.next_rain = force.T_rain[0,0]\n",
    "force.next_disp = force.T_disp[0,0]\n",
    "force.next_display = input.tStart\n",
    "exitTime = input.tEnd"
   ]
  },
  {
   "cell_type": "markdown",
   "metadata": {},
   "source": [
    "# Main loop"
   ]
  },
  {
   "cell_type": "code",
   "execution_count": null,
   "metadata": {
    "collapsed": false
   },
   "outputs": [],
   "source": [
    "%%px\n",
    "# Load Rain Map\n",
    "if force.next_rain <= tNow and force.next_rain < input.tEnd:\n",
    "    rain = np.zeros(totPts, dtype=float)\n",
    "    rain[inIDs] = force.load_Rain_map(tNow,FVmesh.node_coords[inIDs,:2])\n",
    "    comm.Allreduce(MPI.IN_PLACE, rain, op=MPI.MAX)\n",
    "    \n",
    "# Load Tectonic Grid\n",
    "if not input.disp3d:\n",
    "    if force.next_disp <= tNow and force.next_disp < input.tEnd:\n",
    "        ldisp = np.zeros(totPts, dtype=float)\n",
    "        ldisp.fill(-1.e6)\n",
    "        ldisp[inIDs] = force.load_Tecto_map(tNow,FVmesh.node_coords[inIDs,:2])\n",
    "        comm.Allreduce(MPI.IN_PLACE, ldisp, op=MPI.MAX)\n",
    "        disp = force.disp_border(ldisp,FVmesh.neighbours,FVmesh.edge_lenght,recGrid.boundsPt)\n",
    "else:\n",
    "        \n",
    "    if force.next_disp <= tNow and force.next_disp < input.tEnd:\n",
    "        force.load_Disp_map(tNow,FVmesh.node_coords[:,:2],inIDs)\n",
    "        force.disp_border(force.dispZ,FVmesh.neighbours,FVmesh.edge_lenght,recGrid.boundsPt)\n",
    "        recGrid.tinMesh, elevation, cumdiff = force.apply_XY_dispacements(recGrid.areaDel,fixIDs,\n",
    "                                                                          elevation,cumdiff)\n",
    "        \n",
    "#while ( tNow < force.next_disp and tNow < force.next_rain ):\n",
    "#elif tNow == tEnd:\n",
    "# print display\n",
    "#else:\n",
    "# update rain and disp maps and go back to while loop..."
   ]
  },
  {
   "cell_type": "markdown",
   "metadata": {},
   "source": [
    "# Flow computation"
   ]
  },
  {
   "cell_type": "code",
   "execution_count": null,
   "metadata": {
    "collapsed": false
   },
   "outputs": [],
   "source": [
    "%%px\n",
    "Flow_time = time.clock()"
   ]
  },
  {
   "cell_type": "markdown",
   "metadata": {},
   "source": [
    "## 1. Perform pit filling"
   ]
  },
  {
   "cell_type": "code",
   "execution_count": null,
   "metadata": {
    "collapsed": false
   },
   "outputs": [],
   "source": [
    "%%px\n",
    "walltime = time.clock()\n",
    "\n",
    "# Update sea-level\n",
    "force.getSea(tNow)\n",
    "fillH = elevationTIN.pit_filling_PD(elevation, FVmesh.neighbours, \\\n",
    "                recGrid.boundsPt, force.sealevel-input.sealimit, input.fillmax)\n",
    "if rank == 0:\n",
    "    print \" - depression-less algorithm PD with stack\", time.clock() - walltime"
   ]
  },
  {
   "cell_type": "markdown",
   "metadata": {},
   "source": [
    "## 2. Compute stream network"
   ]
  },
  {
   "cell_type": "code",
   "execution_count": null,
   "metadata": {
    "collapsed": false
   },
   "outputs": [],
   "source": [
    "%%px\n",
    "walltime = time.clock()\n",
    "ngbhs = FVmesh.neighbours[allIDs,:]\n",
    "edges = FVmesh.vor_edges[allIDs,:]\n",
    "distances = FVmesh.edge_lenght[allIDs,:]\n",
    "flow.SFD_receivers(fillH, elevation, ngbhs, edges, distances, allIDs, \n",
    "                   force.sealevel-input.sealimit)\n",
    "if rank == 0:\n",
    "    print \" - compute receivers parallel \", time.clock() - walltime\n",
    "\n",
    "# Distribute evenly local minimas to processors\n",
    "walltime = time.clock()\n",
    "flow.localbase = np.array_split(flow.base, size)[rank]\n",
    "flow.ordered_node_array()\n",
    "if rank == 0:\n",
    "    print \" - compute stack order locally \", time.clock() - walltime\n",
    "    \n",
    "walltime = time.clock()\n",
    "stackNbs = comm.allgather(len(flow.localstack))\n",
    "globalstack = np.zeros(sum(stackNbs),dtype=flow.localstack.dtype)\n",
    "comm.Allgatherv(sendbuf=[flow.localstack, MPI.INT], \n",
    "             recvbuf=[globalstack, (stackNbs, None), MPI.INT]) \n",
    "flow.stack = globalstack\n",
    "if rank == 0:\n",
    "    print \" - send stack order globally \", time.clock() - walltime"
   ]
  },
  {
   "cell_type": "markdown",
   "metadata": {},
   "source": [
    "## 3. Compute discharge"
   ]
  },
  {
   "cell_type": "code",
   "execution_count": null,
   "metadata": {
    "collapsed": false
   },
   "outputs": [],
   "source": [
    "%%px\n",
    "walltime = time.clock()\n",
    "flow.compute_flow(FVmesh.control_volumes, rain, True)\n",
    "if rank == 0:\n",
    "    print \" - compute discharge \", time.clock() - walltime"
   ]
  },
  {
   "cell_type": "code",
   "execution_count": null,
   "metadata": {
    "collapsed": false
   },
   "outputs": [],
   "source": [
    "%%px\n",
    "# Here we output the dataset if force.next_disp == tNow\n",
    "if force.next_display <= tNow and force.next_display < input.tEnd:\n",
    "    # get plotting function\n",
    "    #step += 1\n",
    "    force.next_display += force.time_display\n",
    "\n",
    "exitTime = min(force.next_display,force.next_disp)\n",
    "exitTime = min(exitTime,force.next_rain)"
   ]
  },
  {
   "cell_type": "markdown",
   "metadata": {},
   "source": [
    "## 4. Compute CFL condition"
   ]
  },
  {
   "cell_type": "code",
   "execution_count": null,
   "metadata": {
    "collapsed": false
   },
   "outputs": [],
   "source": [
    "%%px\n",
    "walltime = time.clock()  \n",
    "hillslope.dt_pstability(FVmesh.edge_lenght[inGIDs,:tMesh.maxNgbh])\n",
    "#\n",
    "flow.dt_fstability(FVmesh.node_coords[:,:2],fillH,inGIDs)\n",
    "#\n",
    "CFLtime = min(flow.CFL,hillslope.CFL)\n",
    "CFLtime = max(input.minDT,CFLtime)\n",
    "if rank == 0:\n",
    "    print \" - Get CFL time step \", time.clock() - walltime"
   ]
  },
  {
   "cell_type": "markdown",
   "metadata": {},
   "source": [
    "## 5. Compute sediment fluxes"
   ]
  },
  {
   "cell_type": "code",
   "execution_count": null,
   "metadata": {
    "collapsed": false
   },
   "outputs": [],
   "source": [
    "%%px\n",
    "# Initial cumulative elevation change\n",
    "walltime = time.clock()\n",
    "\n",
    "diff_flux = hillslope.sedflux(flow.diff_flux,force.sealevel,elevation,\n",
    "                              FVmesh.control_volumes)\n",
    "if rank == 0:\n",
    "    print \" - Get hillslope fluxes \", time.clock() - walltime\n",
    "\n",
    "walltime = time.clock()\n",
    "tstep,sedrate = flow.compute_sedflux(FVmesh.control_volumes,elevation,fillH,\n",
    "                FVmesh.node_coords[:,:2],xyMin,xyMax,diff_flux,\n",
    "                CFLtime,force.sealevel,True)\n",
    "if rank == 0:\n",
    "    print \" - Get stream fluxes \", time.clock() - walltime\n",
    "\n",
    "# Update surface\n",
    "timestep = min(tstep,exitTime-tNow)\n",
    "elevation = elevation + sedrate * timestep\n",
    "cumdiff = cumdiff + sedrate * timestep"
   ]
  },
  {
   "cell_type": "code",
   "execution_count": null,
   "metadata": {
    "collapsed": false
   },
   "outputs": [],
   "source": [
    "%%px\n",
    "if rank == 0:\n",
    "    print \" - Flow computation \", time.clock() - Flow_time"
   ]
  },
  {
   "cell_type": "markdown",
   "metadata": {},
   "source": [
    "# Create Hdf5 outputs\n",
    "\n",
    "we first define local vertices, triangles and polylines used to create the visualisation outputs."
   ]
  },
  {
   "cell_type": "code",
   "execution_count": null,
   "metadata": {
    "collapsed": false
   },
   "outputs": [],
   "source": [
    "%%px\n",
    "out_time = time.clock()\n",
    "visXlim = np.zeros(2)\n",
    "visYlim = np.zeros(2)\n",
    "visXlim[0] = recGrid.rectX.min()\n",
    "visXlim[1] = recGrid.rectX.max()\n",
    "visYlim[0] = recGrid.rectY.min()\n",
    "visYlim[1] = recGrid.rectY.max()\n",
    "\n",
    "# Done when TIN has been built/rebuilt\n",
    "outPts, outCells = visualiseTIN.output_cellsIDs(allIDs,inIDs,visXlim,visYlim,\n",
    "                                        FVmesh.node_coords[:,:2],tMesh.cells)\n",
    "tcells = np.zeros(size)\n",
    "tcells[rank] = len(outCells)\n",
    "comm.Allreduce(MPI.IN_PLACE,tcells,op=MPI.MAX)\n",
    "tnodes = np.zeros(size)\n",
    "tnodes[rank] = len(allIDs)\n",
    "comm.Allreduce(MPI.IN_PLACE,tnodes,op=MPI.MAX)\n",
    "\n",
    "# Done for every visualisation step\n",
    "flowIDs, polylines = visualiseFlow.output_Polylines(outPts,flow.receivers[outPts],\n",
    "                visXlim,visYlim,FVmesh.node_coords[:,:2])\n",
    "fnodes = np.zeros(size)\n",
    "fnodes[rank] = len(flowIDs)\n",
    "comm.Allreduce(MPI.IN_PLACE,fnodes,op=MPI.MAX)\n",
    "fline = np.zeros(size)\n",
    "fline[rank] = len(polylines[:,0])\n",
    "comm.Allreduce(MPI.IN_PLACE,fline,op=MPI.MAX)"
   ]
  },
  {
   "cell_type": "markdown",
   "metadata": {},
   "source": [
    "we then write to each partition simulation outputs (TIN & flow network) using HdF5."
   ]
  },
  {
   "cell_type": "code",
   "execution_count": null,
   "metadata": {
    "collapsed": false
   },
   "outputs": [],
   "source": [
    "%%px\n",
    "# Compute flow parameters\n",
    "flow.compute_parameters(FVmesh.node_coords[:,:2])\n",
    "\n",
    "# Write HDF5 files\n",
    "visualiseTIN.write_hdf5(input.outDir,input.th5file,step,tMesh.node_coords[:,:2],\n",
    "                        elevation[allIDs],flow.discharge[allIDs],cumdiff[allIDs],\n",
    "                        outCells,rank)\n",
    "visualiseFlow.write_hdf5(input.outDir,input.fh5file,step,FVmesh.node_coords[flowIDs,:2],\n",
    "                         elevation[flowIDs],flow.discharge[flowIDs],flow.chi[flowIDs],\n",
    "                         flow.basinID[flowIDs],polylines,rank)\n",
    "\n",
    "# Combine HDF5 files and write time series\n",
    "if rank==0:\n",
    "    visualiseTIN.write_xmf(input.outDir,input.txmffile,input.txdmffile,\n",
    "                           step,input.tStart,tcells,tnodes,input.th5file,size)\n",
    "    visualiseFlow.write_xmf(input.outDir,input.fxmffile,input.fxdmffile,\n",
    "                            step,input.tStart,fline,fnodes,input.fh5file,size)\n",
    "    print \" - Writing outputs \", time.clock() - out_time"
   ]
  },
  {
   "cell_type": "markdown",
   "metadata": {
    "collapsed": true
   },
   "source": [
    "# Visualise output in Notebook"
   ]
  },
  {
   "cell_type": "code",
   "execution_count": null,
   "metadata": {
    "collapsed": false
   },
   "outputs": [],
   "source": [
    "%%px\n",
    "if rank == 0:\n",
    "    view = visSurf.visSurf(folder=input.outDir, ncpus=size, dx=recGrid.resEdges, timestep=0)\n",
    "    view.plotSurf(width = 800, height = 600, zmin = -8000, zmax = 1000, color = 'Earth', reverse=False,\n",
    "                 dataV = 'z', subsample = 2)\n",
    "if rank == 1:\n",
    "    view = visSurf.visSurf(folder=input.outDir, ncpus=size, dx=recGrid.resEdges, timestep=0, crange=[-0.01,0.01])\n",
    "    view.plotSurf(width = 800, height = 600, zmin = -40, zmax = 40, color = 'RdBu', reverse=False,\n",
    "                 dataV = 'c', subsample = 2)"
   ]
  },
  {
   "cell_type": "code",
   "execution_count": null,
   "metadata": {
    "collapsed": true
   },
   "outputs": [],
   "source": []
  },
  {
   "cell_type": "code",
   "execution_count": null,
   "metadata": {
    "collapsed": true
   },
   "outputs": [],
   "source": []
  },
  {
   "cell_type": "code",
   "execution_count": null,
   "metadata": {
    "collapsed": true
   },
   "outputs": [],
   "source": []
  }
 ],
 "metadata": {
  "kernelspec": {
   "display_name": "Python 2",
   "language": "python",
   "name": "python2"
  },
  "language_info": {
   "codemirror_mode": {
    "name": "ipython",
    "version": 2
   },
   "file_extension": ".py",
   "mimetype": "text/x-python",
   "name": "python",
   "nbconvert_exporter": "python",
   "pygments_lexer": "ipython2",
   "version": "2.7.6"
  }
 },
 "nbformat": 4,
 "nbformat_minor": 0
}
