{
 "cells": [
  {
   "cell_type": "code",
   "execution_count": 1,
   "metadata": {
    "collapsed": false
   },
   "outputs": [
    {
     "data": {
      "text/plain": [
       "[0, 1, 2, 3, 4, 5, 6, 7]"
      ]
     },
     "execution_count": 1,
     "metadata": {},
     "output_type": "execute_result"
    }
   ],
   "source": [
    "from ipyparallel import Client\n",
    "import os\n",
    "c = Client(profile='mpi')\n",
    "v = c[:]\n",
    "c.ids"
   ]
  },
  {
   "cell_type": "markdown",
   "metadata": {
    "collapsed": true
   },
   "source": [
    "# Libraries"
   ]
  },
  {
   "cell_type": "code",
   "execution_count": 2,
   "metadata": {
    "collapsed": false
   },
   "outputs": [],
   "source": [
    "%%px\n",
    "%matplotlib inline\n",
    "\n",
    "import os\n",
    "import time\n",
    "import numpy as np\n",
    "import mpi4py.MPI as MPI\n",
    "\n",
    "from matplotlib import cm\n",
    "import matplotlib.pyplot as plt\n",
    "\n",
    "import triangle\n",
    "\n",
    "import pandas\n",
    "\n",
    "from pyBadlands import FVmethod\n",
    "from pyBadlands import raster2TIN \n",
    "from pyBadlands import flowNetwork\n",
    "from pyBadlands import elevationTIN\n",
    "from pyBadlands import partitionTIN\n",
    "from pyBadlands import visualiseTIN\n",
    "from pyBadlands import visualiseFlow\n",
    "\n",
    "import warnings\n",
    "warnings.filterwarnings(\"ignore\")\n",
    "\n",
    "# Initialise MPI communications\n",
    "comm = MPI.COMM_WORLD\n",
    "rank = comm.Get_rank()\n",
    "size = comm.Get_size()"
   ]
  },
  {
   "cell_type": "markdown",
   "metadata": {},
   "source": [
    "# Initialisation Phase"
   ]
  },
  {
   "cell_type": "code",
   "execution_count": 3,
   "metadata": {
    "collapsed": false
   },
   "outputs": [],
   "source": [
    "%%px\n",
    "Init_time = time.clock()"
   ]
  },
  {
   "cell_type": "markdown",
   "metadata": {},
   "source": [
    "## 1. Get DEM regular grid and create Badlands TIN."
   ]
  },
  {
   "cell_type": "code",
   "execution_count": 4,
   "metadata": {
    "collapsed": false
   },
   "outputs": [],
   "source": [
    "#%%px\n",
    "#if rank==0:\n",
    "#    help(raster2TIN)"
   ]
  },
  {
   "cell_type": "code",
   "execution_count": 5,
   "metadata": {
    "collapsed": false
   },
   "outputs": [
    {
     "name": "stdout",
     "output_type": "stream",
     "text": [
      "[stdout:3]  - read dataset and perform delaunay triangulation  1.368917\n"
     ]
    }
   ],
   "source": [
    "%%px\n",
    "walltime = time.clock()\n",
    "\n",
    "recGrid = raster2TIN.raster2TIN('/home/ubuntu/mpiPyLEM/data/regularMR.csv')\n",
    "\n",
    "tinData = np.column_stack((recGrid.tinMesh['vertices'][:,0],\n",
    "    recGrid.tinMesh['vertices'][:,1]))\n",
    "\n",
    "if rank == 0:\n",
    "    print \" - read dataset and perform delaunay triangulation \", time.clock() - walltime"
   ]
  },
  {
   "cell_type": "markdown",
   "metadata": {
    "collapsed": false
   },
   "source": [
    "## 2. Partition the TIN"
   ]
  },
  {
   "cell_type": "code",
   "execution_count": 6,
   "metadata": {
    "collapsed": false
   },
   "outputs": [],
   "source": [
    "#%%px\n",
    "#if rank==0:\n",
    "#    help(partitionTIN.simple)"
   ]
  },
  {
   "cell_type": "code",
   "execution_count": 7,
   "metadata": {
    "collapsed": false
   },
   "outputs": [
    {
     "name": "stdout",
     "output_type": "stream",
     "text": [
      "[stdout:3]  - partition TIN amongst processors  1.349192\n"
     ]
    }
   ],
   "source": [
    "%%px\n",
    "walltime = time.clock()\n",
    "\n",
    "# Set parameters of the finite volume mesh\n",
    "FVmesh = FVmethod.FVmethod(recGrid.tinMesh['vertices'],\n",
    "                  recGrid.tinMesh['triangles'],\n",
    "                  recGrid.tinMesh['edges'])\n",
    "\n",
    "# Perform partitioning by equivalent domain splitting\n",
    "RowProc = 4\n",
    "ColProc = 2\n",
    "partitionIDs = partitionTIN.simple(tinData[:,0], tinData[:,1], RowProc, ColProc)\n",
    "FVmesh.partIDs = partitionIDs\n",
    "\n",
    "# Get each partition global node ID\n",
    "inGIDs = np.where(partitionIDs == rank)[0]\n",
    "\n",
    "if rank == 0:\n",
    "    print \" - partition TIN amongst processors \", time.clock() - walltime"
   ]
  },
  {
   "cell_type": "markdown",
   "metadata": {},
   "source": [
    "## 3. Build Finite Volume discretisation"
   ]
  },
  {
   "cell_type": "code",
   "execution_count": 8,
   "metadata": {
    "collapsed": false
   },
   "outputs": [],
   "source": [
    "#%%px\n",
    "#if rank==0:\n",
    "#    help(FVmethod.FVmethod.construct_FV)"
   ]
  },
  {
   "cell_type": "code",
   "execution_count": 9,
   "metadata": {
    "collapsed": false
   },
   "outputs": [
    {
     "name": "stdout",
     "output_type": "stream",
     "text": [
      "[stdout:3] \n",
      " - partition TIN including shadow zones  0.154952\n",
      " - build the voronoi diagram  0.081921\n",
      " - construct Finite Volume representation  0.173406\n",
      " - perform MPI communication  0.195217\n",
      " - FV mesh  0.77804\n"
     ]
    }
   ],
   "source": [
    "%%px\n",
    "\n",
    "# Define overlapping partitions\n",
    "allIDs, localTIN = partitionTIN.overlap(tinData[:,0], \\\n",
    "    tinData[:,1], RowProc, ColProc, 2*recGrid.resEdges)\n",
    "\n",
    "# Set parameters of the finite volume mesh\n",
    "tMesh = FVmethod.FVmethod(localTIN['vertices'],\n",
    "                  localTIN['triangles'],\n",
    "                  localTIN['edges'])\n",
    "\n",
    "walltime = time.clock()\n",
    "\n",
    "# Define Finite Volume parameters\n",
    "totPts = len(tinData[:,0])\n",
    "FVmesh.neighbours = np.zeros((totPts,20), dtype=np.int) \n",
    "FVmesh.neighbours.fill(-2)\n",
    "FVmesh.edge_lenght = np.zeros((totPts,20), dtype=np.float) \n",
    "FVmesh.vor_edges = np.zeros((totPts,20), dtype=np.float) \n",
    "FVmesh.control_volumes = np.zeros(totPts, dtype=np.float) \n",
    "\n",
    "# Compute Finite Volume parameters\n",
    "tGIDs, tNgbh, tEdgs, tVors, tVols = tMesh.construct_FV(inGIDs, allIDs, totPts)\n",
    "\n",
    "FVmesh.neighbours[tGIDs,:tMesh.maxNgbh] = tNgbh\n",
    "FVmesh.edge_lenght[tGIDs,:tMesh.maxNgbh] = tEdgs\n",
    "FVmesh.vor_edges[tGIDs,:tMesh.maxNgbh] = tVors\n",
    "FVmesh.control_volumes[tGIDs] = tVols\n",
    "\n",
    "if rank == 0:\n",
    "    print \" - FV mesh \", time.clock() - walltime"
   ]
  },
  {
   "cell_type": "markdown",
   "metadata": {},
   "source": [
    "## 4. Interpolate elevation"
   ]
  },
  {
   "cell_type": "code",
   "execution_count": 10,
   "metadata": {
    "collapsed": false
   },
   "outputs": [],
   "source": [
    "#%%px\n",
    "#if rank==0:\n",
    "#    help(elevationTIN.update_border_elevation)"
   ]
  },
  {
   "cell_type": "code",
   "execution_count": 11,
   "metadata": {
    "collapsed": false
   },
   "outputs": [
    {
     "name": "stdout",
     "output_type": "stream",
     "text": [
      "[stdout:3]  - interpolate elevation on grid  0.153686\n"
     ]
    }
   ],
   "source": [
    "%%px\n",
    "walltime = time.clock()\n",
    "inIDs = np.where(FVmesh.partIDs[recGrid.boundsPt:] == rank)[0]\n",
    "inIDs += recGrid.boundsPt\n",
    " \n",
    "local_elev = np.zeros(totPts)\n",
    "local_elev.fill(-1.e6)\n",
    "local_elev[inIDs] = elevationTIN.getElevation(recGrid.regX, recGrid.regY, \\\n",
    "    recGrid.regZ, FVmesh.node_coords[inIDs,:2])\n",
    "comm.Allreduce(MPI.IN_PLACE, local_elev, op=MPI.MAX)\n",
    "\n",
    "elevation = elevationTIN.update_border_elevation(local_elev, \\\n",
    "    FVmesh.neighbours, FVmesh.edge_lenght, recGrid.boundsPt, btype='slope')\n",
    "\n",
    "tinData = np.column_stack((tinData,elevation)) \n",
    "if rank == 0:\n",
    "    print \" - interpolate elevation on grid \", time.clock() - walltime"
   ]
  },
  {
   "cell_type": "code",
   "execution_count": 12,
   "metadata": {
    "collapsed": false
   },
   "outputs": [
    {
     "name": "stdout",
     "output_type": "stream",
     "text": [
      "[stdout:3]  - Initialisation phase  3.894588\n"
     ]
    }
   ],
   "source": [
    "%%px\n",
    "if rank == 0:\n",
    "    print \" - Initialisation phase \", time.clock() - Init_time"
   ]
  },
  {
   "cell_type": "code",
   "execution_count": 13,
   "metadata": {
    "collapsed": false
   },
   "outputs": [
    {
     "name": "stdout",
     "output_type": "stream",
     "text": [
      "[stdout:3] -4315.30990895\n"
     ]
    }
   ],
   "source": [
    "%%px\n",
    "if rank==0:\n",
    "    print elevation.min()"
   ]
  },
  {
   "cell_type": "markdown",
   "metadata": {},
   "source": [
    "# Flow computation"
   ]
  },
  {
   "cell_type": "code",
   "execution_count": 14,
   "metadata": {
    "collapsed": true
   },
   "outputs": [],
   "source": [
    "%%px\n",
    "Flow_time = time.clock()"
   ]
  },
  {
   "cell_type": "markdown",
   "metadata": {},
   "source": [
    "## 1. Perform pit filling\n",
    "\n",
    "we still use the Planchon & Darboux algorithm but will try the Priority FLood algorithm from Barnes in a near future."
   ]
  },
  {
   "cell_type": "code",
   "execution_count": 15,
   "metadata": {
    "collapsed": false
   },
   "outputs": [],
   "source": [
    "#%%px\n",
    "#if rank==0:\n",
    "#    help(elevationTIN.pit_filling_PD)"
   ]
  },
  {
   "cell_type": "code",
   "execution_count": 16,
   "metadata": {
    "collapsed": false
   },
   "outputs": [
    {
     "name": "stdout",
     "output_type": "stream",
     "text": [
      "[stdout:3]  - depression-less algorithm PD with stack 0.711751\n"
     ]
    }
   ],
   "source": [
    "%%px\n",
    "walltime = time.clock()\n",
    "fillH = elevationTIN.pit_filling_PD(elevation, FVmesh.neighbours, \\\n",
    "                                    recGrid.boundsPt, 100. ,0.01)\n",
    "if rank == 0:\n",
    "    print \" - depression-less algorithm PD with stack\", time.clock() - walltime"
   ]
  },
  {
   "cell_type": "markdown",
   "metadata": {},
   "source": [
    "## 2. Compute stream network"
   ]
  },
  {
   "cell_type": "code",
   "execution_count": 17,
   "metadata": {
    "collapsed": false
   },
   "outputs": [
    {
     "name": "stdout",
     "output_type": "stream",
     "text": [
      "[stdout:3] \n",
      " - compute receivers parallel  0.073697\n",
      " - compute stack order locally  0.05384\n",
      " - send stack order globally  0.063825\n"
     ]
    }
   ],
   "source": [
    "%%px\n",
    "walltime = time.clock()\n",
    "flow = flowNetwork()\n",
    "ngbhs = FVmesh.neighbours[allIDs,:]\n",
    "flow.SFD_receivers(fillH, ngbhs, allIDs)\n",
    "if rank == 0:\n",
    "    print \" - compute receivers parallel \", time.clock() - walltime\n",
    "\n",
    "# Distribute evenly local minimas to processors\n",
    "walltime = time.clock()\n",
    "flow.localbase = np.array_split(flow.base, size)[rank]\n",
    "flow.ordered_node_array()\n",
    "if rank == 0:\n",
    "    print \" - compute stack order locally \", time.clock() - walltime\n",
    "    \n",
    "walltime = time.clock()\n",
    "stackNbs = comm.allgather(len(flow.localstack))\n",
    "globalstack = np.zeros(sum(stackNbs),dtype=flow.localstack.dtype)\n",
    "comm.Allgatherv(sendbuf=[flow.localstack, MPI.INT], \n",
    "             recvbuf=[globalstack, (stackNbs, None), MPI.INT]) \n",
    "flow.stack = globalstack\n",
    "if rank == 0:\n",
    "    print \" - send stack order globally \", time.clock() - walltime"
   ]
  },
  {
   "cell_type": "markdown",
   "metadata": {},
   "source": [
    "## 3. Compute discharge"
   ]
  },
  {
   "cell_type": "code",
   "execution_count": 18,
   "metadata": {
    "collapsed": false
   },
   "outputs": [
    {
     "name": "stdout",
     "output_type": "stream",
     "text": [
      "[stdout:3]  - compute discharge serial  0.071271\n"
     ]
    }
   ],
   "source": [
    "%%px\n",
    "walltime = time.clock()\n",
    "rain = np.ones(totPts, dtype=float)\n",
    "rain[:recGrid.boundsPt] = 0.\n",
    "flow.compute_flow(FVmesh.control_volumes, rain)\n",
    "if rank == 0:\n",
    "    print \" - compute discharge serial \", time.clock() - walltime"
   ]
  },
  {
   "cell_type": "code",
   "execution_count": 19,
   "metadata": {
    "collapsed": false
   },
   "outputs": [
    {
     "name": "stdout",
     "output_type": "stream",
     "text": [
      "[stdout:3]  - Flow computation  1.025617\n"
     ]
    }
   ],
   "source": [
    "%%px\n",
    "if rank == 0:\n",
    "    print \" - Flow computation \", time.clock() - Flow_time"
   ]
  },
  {
   "cell_type": "markdown",
   "metadata": {},
   "source": [
    "# Create Hdf5 outputs\n",
    "\n",
    "we first define local vertices, triangles and polylines used to create the visualisation outputs."
   ]
  },
  {
   "cell_type": "code",
   "execution_count": 20,
   "metadata": {
    "collapsed": false
   },
   "outputs": [],
   "source": [
    "%%px\n",
    "out_time = time.clock()\n",
    "visXlim = np.zeros(2)\n",
    "visYlim = np.zeros(2)\n",
    "visXlim[0] = recGrid.rectX.min()\n",
    "visXlim[1] = recGrid.rectX.max()\n",
    "visYlim[0] = recGrid.rectY.min()\n",
    "visYlim[1] = recGrid.rectY.max()\n",
    "\n",
    "# Done when TIN has been built/rebuilt\n",
    "outPts, outCells = visualiseTIN.output_cellsIDs(allIDs,inIDs,visXlim,visYlim,\n",
    "                                        FVmesh.node_coords[:,:2],tMesh.cells)\n",
    "tcells = np.zeros(size)\n",
    "tcells[rank] = len(outCells)\n",
    "comm.Allreduce(MPI.IN_PLACE,tcells,op=MPI.MAX)\n",
    "tnodes = np.zeros(size)\n",
    "tnodes[rank] = len(allIDs)\n",
    "comm.Allreduce(MPI.IN_PLACE,tnodes,op=MPI.MAX)\n",
    "\n",
    "# Done for every visualisation step\n",
    "flowIDs, polylines = visualiseFlow.output_Polylines(outPts,flow.receivers[outPts],\n",
    "                visXlim,visYlim,FVmesh.node_coords[:,:2])\n",
    "fnodes = np.zeros(size)\n",
    "fnodes[rank] = len(flowIDs)\n",
    "comm.Allreduce(MPI.IN_PLACE,fnodes,op=MPI.MAX)\n",
    "fline = np.zeros(size)\n",
    "fline[rank] = len(polylines[:,0])\n",
    "comm.Allreduce(MPI.IN_PLACE,fline,op=MPI.MAX)"
   ]
  },
  {
   "cell_type": "markdown",
   "metadata": {},
   "source": [
    "we then write to each partition simulation outputs (TIN & flow network) using HdF5."
   ]
  },
  {
   "cell_type": "code",
   "execution_count": 22,
   "metadata": {
    "collapsed": false
   },
   "outputs": [
    {
     "name": "stdout",
     "output_type": "stream",
     "text": [
      "[stdout:3]  - Writing outputs  0.658613\n"
     ]
    }
   ],
   "source": [
    "%%px\n",
    "step = 0\n",
    "SimTime = 0.0\n",
    "folder = 'mpiPyLEM/output'\n",
    "\n",
    "th5file = 'tin.time'\n",
    "txmffile = 'tin.time'\n",
    "txdmffile = 'tin.series.xdmf'\n",
    "\n",
    "fh5file = 'flow.time'\n",
    "fxmffile = 'flow.time'\n",
    "fxdmffile = 'flow.series.xdmf'\n",
    "\n",
    "# Write HDF5 files\n",
    "visualiseTIN.write_hdf5(folder,th5file,step,tMesh.node_coords[:,:2],\n",
    "                        elevation[allIDs],flow.discharge[allIDs],outCells,rank)\n",
    "visualiseFlow.write_hdf5(folder,fh5file,step,FVmesh.node_coords[flowIDs,:2],elevation[flowIDs],\n",
    "                        flow.discharge[flowIDs],polylines,rank)\n",
    "\n",
    "# Combine HDF5 files and write time series\n",
    "if rank==0:\n",
    "    visualiseTIN.write_xmf(folder,txmffile,txdmffile,step,SimTime,tcells,tnodes,th5file,size)\n",
    "    visualiseFlow.write_xmf(folder,fxmffile,fxdmffile,step,SimTime,fline,fnodes,fh5file,size)\n",
    "    print \" - Writing outputs \", time.clock() - out_time"
   ]
  },
  {
   "cell_type": "code",
   "execution_count": null,
   "metadata": {
    "collapsed": true
   },
   "outputs": [],
   "source": []
  },
  {
   "cell_type": "code",
   "execution_count": null,
   "metadata": {
    "collapsed": true
   },
   "outputs": [],
   "source": []
  },
  {
   "cell_type": "code",
   "execution_count": null,
   "metadata": {
    "collapsed": true
   },
   "outputs": [],
   "source": []
  },
  {
   "cell_type": "code",
   "execution_count": null,
   "metadata": {
    "collapsed": true
   },
   "outputs": [],
   "source": []
  },
  {
   "cell_type": "code",
   "execution_count": null,
   "metadata": {
    "collapsed": true
   },
   "outputs": [],
   "source": []
  },
  {
   "cell_type": "code",
   "execution_count": null,
   "metadata": {
    "collapsed": true
   },
   "outputs": [],
   "source": []
  }
 ],
 "metadata": {
  "kernelspec": {
   "display_name": "Python 2",
   "language": "python",
   "name": "python2"
  },
  "language_info": {
   "codemirror_mode": {
    "name": "ipython",
    "version": 2
   },
   "file_extension": ".py",
   "mimetype": "text/x-python",
   "name": "python",
   "nbconvert_exporter": "python",
   "pygments_lexer": "ipython2",
   "version": "2.7.6"
  }
 },
 "nbformat": 4,
 "nbformat_minor": 0
}
