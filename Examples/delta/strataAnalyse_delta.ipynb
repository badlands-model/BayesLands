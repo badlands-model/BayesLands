{
 "cells": [
  {
   "cell_type": "markdown",
   "metadata": {},
   "source": [
    "# Analyse pyBadlands stratigraphic output\n",
    "\n",
    "If the stratigraphic structure is turned on in the XmL input file, **pyBadlands** produces sedimentary layers Hdf5 files. The stratigraphic layers are defined on a regularly spaced grid and a layer is recorded at each layer time interval given by the user.\n",
    "\n",
    "Here we show how we can visualise quickly the structure of the stratigraphic layer in an IPython notebook."
   ]
  },
  {
   "cell_type": "code",
   "execution_count": null,
   "metadata": {},
   "outputs": [],
   "source": [
    "import numpy as np\n",
    "import matplotlib.mlab as ml\n",
    "import matplotlib.pyplot as plt\n",
    "import scipy.ndimage.filters as filters\n",
    "from scipy.interpolate import RectBivariateSpline\n",
    "from scipy.ndimage.filters import gaussian_filter\n",
    "\n",
    "import stratalAnalyse_delta as strata\n",
    "\n",
    "# display plots in SVG format\n",
    "%config InlineBackend.figure_format = 'svg'\n",
    "%matplotlib inline"
   ]
  },
  {
   "cell_type": "markdown",
   "metadata": {},
   "source": [
    "# Loading stratigraphic file\n",
    "\n",
    "First we need to load the stratigraphic file. The files are located in the **h5/** folder in the simulation main output folder and are named using the following convention:\n",
    "- `sed.time`T`.p`X`.hdf5`\n",
    "\n",
    "with T the display time index and X the number of the partition (used in the parallel version). In cases where you ran your simulation in parallel you will also need to give the number of CPUs used (_cpus_).\n",
    "\n",
    "To load a file you will need to give the folder name and the number of processors used in your simulation.\n",
    "\n",
    "For more information regarding the function uncomment the following line."
   ]
  },
  {
   "cell_type": "code",
   "execution_count": null,
   "metadata": {
    "collapsed": true
   },
   "outputs": [],
   "source": [
    "# help(strata.stratalSection.__init__)"
   ]
  },
  {
   "cell_type": "code",
   "execution_count": null,
   "metadata": {
    "collapsed": true
   },
   "outputs": [],
   "source": [
    "folder = 'output/h5/'\n",
    "strat = strata.stratalSection(folder)"
   ]
  },
  {
   "cell_type": "markdown",
   "metadata": {},
   "source": [
    "Then we need to load a particular output time interval (this is the T parameter in the hdf5 file name convention).\n",
    "\n",
    "**Note**\n",
    "\n",
    "This number is not always the number of sedimentary layers for this particular time step as you could have chosen in the input file to have more than 1 sedimentary layer recorded by output interval!"
   ]
  },
  {
   "cell_type": "code",
   "execution_count": null,
   "metadata": {
    "collapsed": true
   },
   "outputs": [],
   "source": [
    "# help(strat.loadStratigraphy)"
   ]
  },
  {
   "cell_type": "code",
   "execution_count": null,
   "metadata": {
    "collapsed": true
   },
   "outputs": [],
   "source": [
    "strat.loadStratigraphy(100) "
   ]
  },
  {
   "cell_type": "markdown",
   "metadata": {},
   "source": [
    "# Building a cross-section\n",
    "\n",
    "We then slice the stratigraphic mesh to visualise the sedimentary architecture along a given cross-section.\n",
    "\n",
    "To create the cross-section you will need to provide:\n",
    "+ the position of the segment in the simulation space _(xo,yo)_ and _(xm,ym)_, \n",
    "+ a gaussian filter value for smoothing (_gfilt_ a value of 0 can be used for non-smoothing) and \n",
    "+ the resolution of the cross-section (based on a number of points: _nbpts_). "
   ]
  },
  {
   "cell_type": "code",
   "execution_count": null,
   "metadata": {
    "collapsed": true
   },
   "outputs": [],
   "source": [
    "# Build a cross-section along X axis\n",
    "x1 = np.amin(strat.x)\n",
    "x2 = np.amax(strat.x)\n",
    "y1 = np.amax(strat.x)/2\n",
    "y2 = np.amax(strat.x)/2\n",
    "\n",
    "# Interpolation parameters\n",
    "interp = 10\n",
    "nbpts = strat.nx*interp\n",
    "gfilt = 1"
   ]
  },
  {
   "cell_type": "code",
   "execution_count": null,
   "metadata": {
    "collapsed": true
   },
   "outputs": [],
   "source": [
    "# help(strat.buildSection)"
   ]
  },
  {
   "cell_type": "code",
   "execution_count": null,
   "metadata": {
    "collapsed": true
   },
   "outputs": [],
   "source": [
    "strat.buildSection(xo = x1, yo = y1, xm = x2, ym = y2, pts = nbpts, gfilter = gfilt)"
   ]
  },
  {
   "cell_type": "markdown",
   "metadata": {},
   "source": [
    "# Stratal stacking pattern\n",
    "\n",
    "We use **plotly** to visualise the vertival cross-section of stratal stacking apttern."
   ]
  },
  {
   "cell_type": "code",
   "execution_count": null,
   "metadata": {
    "collapsed": true
   },
   "outputs": [],
   "source": [
    "#help(strata.viewSection)"
   ]
  },
  {
   "cell_type": "code",
   "execution_count": null,
   "metadata": {},
   "outputs": [],
   "source": [
    "strata.viewSection(width = 800, height = 500, cs = strat, \n",
    "            dnlay = 2, rangeX=[0, 10000], rangeY=[-600,200],\n",
    "            linesize = 0.5, title='Stratal stacking pattern coloured by time')"
   ]
  },
  {
   "cell_type": "markdown",
   "metadata": {},
   "source": [
    "# Sequence stratigraphy methods proposed in this notebook\n",
    "\n",
    "New analytical methods are proposed in recent years on the interpretation of depositional systems. Here, we apply three methods, including \n",
    "+ **(i) the systems tracts method** in which the declaration of stratigraphic sequences is based on relative sea-level change; \n",
    "+ **(ii) the shoreline trajectory analysis** that defines different trajectory classes according to the migration of shoreline; \n",
    "+ **(iii) the accommodation sucession method** that focuses on the objective observation of depositional trends and then defines different sequence sets reponding to the competing ration between the change of accommodation and sediment supply."
   ]
  },
  {
   "cell_type": "markdown",
   "metadata": {},
   "source": [
    "# 1- Systems Tracts Method - based on relative sea-level\n",
    "\n",
    "There are several models of systems tracts within depositional sequences, here we use the most simple one called the four systems tract model (figure is from [Helland-Hansen & Hampson (2009)](http://onlinelibrary.wiley.com/wol1/doi/10.1111/j.1365-2117.2009.00425.x/full)): <img src=\"images/SystemsTract_RSL.png\" alt=\"Systems tract defined based on relative sea-level\"  width=\"300\" height=\"300\" border=\"10\" />\n",
    "- highstand systems tract **HST** \n",
    "- falling-stage systems tract **FSST**\n",
    "- lowstand systems tract **LST**\n",
    "- transgressive systems tract **TST**\n",
    "\n",
    "For each of these system tracts we define a given color. We use the 'colorlover' library [link](http://moderndata.plot.ly/color-scales-in-ipython-notebook/)"
   ]
  },
  {
   "cell_type": "markdown",
   "metadata": {},
   "source": [
    "## Relative base-level\n",
    "\n",
    "We first visualize the sea-level curve, and then extract **manually** the time intervals that bound different systems tracts, as showed in the above figure."
   ]
  },
  {
   "cell_type": "code",
   "execution_count": null,
   "metadata": {},
   "outputs": [],
   "source": [
    "time, Sealevel = strata.readSea('data/sea.csv') \n",
    "# There are 200 (strat.nz) stratigraphic layers. We need to extract the sea level value of each stratigraphic layer.\n",
    "dnlay = time.shape[0]/strat.nz\n",
    "Time = np.array(time[::dnlay])\n",
    "sealevel = np.array(Sealevel[::dnlay])\n",
    "timeStep = int(np.amax(time)/strat.nz) \n",
    "\n",
    "# Plot sea-level\n",
    "strata.viewData(x0 = Time/timeStep, y0 = sealevel, width = 600, height = 400, linesize = 3, \n",
    "                color = '#6666FF',title='Sea-level curve',xlegend='display steps',ylegend='sea-level position')"
   ]
  },
  {
   "cell_type": "markdown",
   "metadata": {},
   "source": [
    "We will assign 4 different colors based on relative sea-level change. To visualise the colors you can copy the html code below in the following [website](https://www.w3schools.com/cssref/tryit.asp?filename=trycss_color_rgba):\n",
    "\n",
    "```html\n",
    "<!DOCTYPE html><html>\n",
    "  <head>\n",
    "\t<style>\n",
    "      #p1 {background-color:rgba(213,139,214,0.8);}\n",
    "      #p2 {background-color:rgba(215,171,117,0.8);}\n",
    "      #p3 {background-color:rgba(39,123,70,0.8);}\n",
    "      #p4 {background-color:rgba(82,128,233,0.8);}\n",
    "    </style>\n",
    "  </head>\n",
    "  <body>\n",
    "    <p>RGB colors with opacity for Systems-Tracts:</p>\n",
    "    <p id=\"p1\">HST</p>\n",
    "    <p id=\"p2\">FSST</p>\n",
    "    <p id=\"p3\">LST</p>\n",
    "    <p id=\"p4\">TST</p>\n",
    "  </body>\n",
    "</html>\n",
    "```\n",
    "Define different colors for different systems tracts"
   ]
  },
  {
   "cell_type": "code",
   "execution_count": null,
   "metadata": {
    "collapsed": true
   },
   "outputs": [],
   "source": [
    "cHST = 'rgba(213,139,214,0.8)' \n",
    "cFSST = 'rgba(215,171,117,0.8)' \n",
    "cLST = 'rgba(39,123,70,0.8)' \n",
    "cTST = 'rgba(82,128,233,0.8)' "
   ]
  },
  {
   "cell_type": "markdown",
   "metadata": {},
   "source": [
    "Specify the extent of every systems tracts according to the relative sea-level change"
   ]
  },
  {
   "cell_type": "code",
   "execution_count": null,
   "metadata": {
    "collapsed": true
   },
   "outputs": [],
   "source": [
    "FSST1 = np.array([0,22],dtype=int)\n",
    "LST1 = np.array([22,40],dtype=int)\n",
    "TST1 = np.array([40,70],dtype=int)\n",
    "HST2 = np.array([70,87],dtype=int)\n",
    "FSST2 = np.array([87,164],dtype=int)\n",
    "LST2 = np.array([164,180],dtype=int)\n",
    "TST2 = np.array([180,200],dtype=int)"
   ]
  },
  {
   "cell_type": "markdown",
   "metadata": {},
   "source": [
    "Build the color list for each systems tract"
   ]
  },
  {
   "cell_type": "code",
   "execution_count": null,
   "metadata": {
    "collapsed": true
   },
   "outputs": [],
   "source": [
    "# Build the color list\n",
    "STcolors = []\n",
    "for k in range(FSST1[0],FSST1[1]):\n",
    "    STcolors.append(cFSST)\n",
    "for k in range(LST1[0],LST1[1]):\n",
    "    STcolors.append(cLST)\n",
    "for k in range(TST1[0],TST1[1]):\n",
    "    STcolors.append(cTST)\n",
    "for k in range(HST2[0],HST2[1]):\n",
    "    STcolors.append(cHST)\n",
    "for k in range(FSST2[0],FSST2[1]):\n",
    "    STcolors.append(cFSST)\n",
    "for k in range(LST2[0],LST2[1]):\n",
    "    STcolors.append(cLST)\n",
    "for k in range(TST2[0],TST2[1]):\n",
    "    STcolors.append(cTST)"
   ]
  },
  {
   "cell_type": "markdown",
   "metadata": {},
   "source": [
    "## Plotting the resulting systems tracts"
   ]
  },
  {
   "cell_type": "code",
   "execution_count": null,
   "metadata": {
    "collapsed": true
   },
   "outputs": [],
   "source": [
    "# help(strata.viewSectionST)"
   ]
  },
  {
   "cell_type": "code",
   "execution_count": null,
   "metadata": {},
   "outputs": [],
   "source": [
    "strata.viewSectionST(width = 800, height = 500, cs=strat, colors=STcolors,\n",
    "                   dnlay = 2, rangeX=[0, 10000], rangeY=[-600,200], \n",
    "                   linesize=0.5, title='Systems tracts interpreted based on relative sea-level (RSL)')"
   ]
  },
  {
   "cell_type": "markdown",
   "metadata": {},
   "source": [
    "# 2- Shoreline position / accomodation & sedimentation change\n",
    "\n",
    "+ Before doing the interpretation using the two another methods, we need to calculate the shoreline positions (shoreline trajectory), the accommodation change ($\\delta A$) and sedimentation change ($\\delta S$) at shoreline position through time. \n",
    "\n",
    "+ The endpoint of every deposited layer is also calculated to plot the Wheeler Diagram.\n",
    "\n",
    "+ In order to calculate the shoreline trajectory, $\\delta A$ and $\\delta S$ at the shoreline, we need the information of the sedimentary layers when they deposited. In this example, 100 outputs are recorded (**`nbout`**). We use a loop to read the output every two timesteps (**`nstep`**). "
   ]
  },
  {
   "cell_type": "code",
   "execution_count": null,
   "metadata": {
    "collapsed": true
   },
   "outputs": [],
   "source": [
    "nbout = 100\n",
    "nstep = 2"
   ]
  },
  {
   "cell_type": "markdown",
   "metadata": {},
   "source": [
    "The `sed.time`T`.p`X`.hdf5` file starts from time1. Therefore, the first file we load is T=1, then followed by T=2, 4, 6, 8, ..., 100"
   ]
  },
  {
   "cell_type": "code",
   "execution_count": null,
   "metadata": {
    "collapsed": true
   },
   "outputs": [],
   "source": [
    "strat_all = [strata.stratalSection(folder)]\n",
    "strat_all[0].loadStratigraphy(1)\n",
    "k = 1\n",
    "for i in range(nstep,nbout+1,nstep):\n",
    "    strat = strata.stratalSection(folder)\n",
    "    strat_all.append(strat)\n",
    "    strat_all[k].loadStratigraphy(i)\n",
    "    k += 1"
   ]
  },
  {
   "cell_type": "markdown",
   "metadata": {},
   "source": [
    "## Building cross-sections parameters\n",
    "\n",
    "We then slice the stratigraphic mesh to visualise the sedimentary architecture along a given cross-section.\n",
    "\n",
    "To create the cross-section you will need to provide the position of the segment in the simulation space _(xo,yo)_ and _(xm,ym)_, a gaussian filter value for smoothing (_gfilt_ a value of 0 can be used for non-smoothing) and the resolution of the cross-section (based on a number of points: _nbpts_). "
   ]
  },
  {
   "cell_type": "code",
   "execution_count": null,
   "metadata": {
    "collapsed": true
   },
   "outputs": [],
   "source": [
    "npts = len(strat_all)\n",
    "for i in range(0,npts):\n",
    "    strat_all[i].buildSection(xo = x1, yo = y1, xm = x2, ym = y2, pts = nbpts, gfilter = gfilt)"
   ]
  },
  {
   "cell_type": "markdown",
   "metadata": {},
   "source": [
    "# Generate shoreline trajectory\n",
    "\n",
    "The shoreline position is where its elevation equals to the sea level. Sometimes we could not find the position whose elevation equals to the sea level, we then have to use the most close position as a proxy of shoreline position. In this situation, different cases have to use different rules. Generally, there are two models which are delta buildup and basin filling, as showed below:\n",
    "\n",
    "|<img src=\"images/delta_buildup.png\" alt=\"geometry\" width=\"450\" height=\"200\"/>| <img src=\"images/basin_filling.png\" alt=\"sea level\" width=\"430\" height=\"200\"/> |\n",
    "|:-:|:-:|\n",
    "|Delta buildup example|Basin filling example|\n",
    "\n",
    "**(a)** represents the case of **delta** buildup. In this case, deltas form at the margin area. The rule to calculate the shoreline position (1) for the left-hand side: shoreline_left = **np.amin**(np.where(elevation **>=** sealeve)[0]); (2) for right-hand side: shoreline_right = **np.amax**(np.where(elevation **>=** sealeve)[0]).\n",
    "\n",
    "**(b)** represents the case of **basin** filling. In this case, basin forms at the center area. The rule to calculate the shoreline position (1) for the left-hand side: shoreline_left = **np.amin**(np.where(elevation **<=** sealeve)[0]); (2) for right-hand side: shoreline_right = **np.amax**(np.where(elevation **<=** sealeve)[0]).\n",
    "\n",
    "If there is only one side that need to calculate the shoreline trajectory on the cross-section, you still need specify the model style ('delta' or 'basin') first. Then you only use the shoreline position at that side and ignore the result of the other side.\n",
    "\n",
    "In addition to shoreline trajectory, the accommodation change ($\\delta A$) and sediementaion change ($\\delta S$) will also be calculated at the shoreline position."
   ]
  },
  {
   "cell_type": "code",
   "execution_count": null,
   "metadata": {},
   "outputs": [],
   "source": [
    "time, Sealevel = strata.readSea('data/sea.csv') \n",
    "# Extract the value of sea-level for each stratigraphic layer\n",
    "dnlay = time.shape[0]/nbout*nstep\n",
    "Time = np.array(time[::dnlay])\n",
    "sealevel = np.array(Sealevel[::dnlay])\n",
    "sealevel[0] = Sealevel[1]\n",
    "timeStep = int(np.amax(time)/nbout*nstep) \n",
    "\n",
    "# Plot sea-level\n",
    "strata.viewData(x0 = Time/timeStep, y0 = sealevel, width = 600, height = 400, linesize = 3, \n",
    "                color = '#6666FF',title='Sea-level curve',xlegend='display steps',ylegend='sea-level position')"
   ]
  },
  {
   "cell_type": "code",
   "execution_count": null,
   "metadata": {
    "collapsed": true
   },
   "outputs": [],
   "source": [
    "# help(strat.buildParameters)"
   ]
  },
  {
   "cell_type": "code",
   "execution_count": null,
   "metadata": {
    "collapsed": true
   },
   "outputs": [],
   "source": [
    "strat.buildParameters(npts = npts, strat_all = strat_all, sealevel = sealevel, gfilter = 0, style = 'delta')"
   ]
  },
  {
   "cell_type": "markdown",
   "metadata": {},
   "source": [
    "# 3 - Shoreline trajectory method\n",
    "\n",
    "Here we use a second method to interpret the depositional units based on the shifts of shoreline (from [Helland-Hansen & Hampson (2009)](http://onlinelibrary.wiley.com/wol1/doi/10.1111/j.1365-2117.2009.00425.x/full)):\n",
    "<img src=\"images/SystemsTract_TC.png\" alt=\"Systems tract defined based on shoreline trajectory\"  width=\"400\" height=\"400\" border=\"10\" />\n",
    "\n",
    "- Transgressive trajectory class ** TTC **, when shoreline landward shift\n",
    "- Descending regressive trajectory class ** DRTC **, when shoreline basinward shift accompanied by degradation\n",
    "- Ascending regressive trajectory class ** ARTC **, when shoreline basinward shift accompanied by aggradation\n",
    "- Stationary trajectory class **STC**, when the shoreline stands still\n",
    "\n",
    "## Visualize shoreline trajectory and its gradient\n",
    "\n",
    "When calculating the shoreline trajectory gradient, the direction of shoreline migration along the cross-section at different sides (left or right) of different model styles (delta or basin) responds to transgression or regression differently. For example, in the delta example, the increase of shoreline position (gradient > 0) represents transgression at the left side, but means regression at the right side. In the basin example, the increase of shoreline position (gradient > 0) represents regression at the left side, but means transgression at the right side. \n",
    "\n",
    "Therefore, in the delta example: \n",
    "- gval (gradient) = np.gradient(shoreline_left); \n",
    "- gval (gradient) = np.gradient(-shoreline_right). \n",
    "\n",
    "While for the basin example: \n",
    "- gval (gradient) = np.gradient(-shoreline_left); \n",
    "- gval (gradient) = np.gradient(shoreline_right)."
   ]
  },
  {
   "cell_type": "code",
   "execution_count": null,
   "metadata": {},
   "outputs": [],
   "source": [
    "# left-hand side\n",
    "xval = np.linspace(0,strat.nz,npts)\n",
    "yval = strat_all[0].dist[strat.shoreID_l.astype(int)]\n",
    "gval = np.gradient(yval)\n",
    "\n",
    "# View shoreline position through time\n",
    "strata.viewData(x0 = xval, y0 = yval, width = 600, height = 400, linesize = 3, color = '#6666FF',\n",
    "               title='Shoreline trajectory',xlegend='display steps',ylegend='shoreline position in metres')\n",
    "\n",
    "# Define the gradient evolution\n",
    "strata.viewData(x0 = xval, y0 = gval, width = 600, height = 400, linesize = 3, color = '#f4a142',\n",
    "               title='Shoreline trajectory gradient',xlegend='display steps',ylegend='gradient shoreline position')"
   ]
  },
  {
   "cell_type": "code",
   "execution_count": null,
   "metadata": {},
   "outputs": [],
   "source": [
    "# right-hand side\n",
    "xval = np.linspace(0,strat.nz,npts)\n",
    "yval_r = strat_all[0].dist[strat.shoreID_r.astype(int)]\n",
    "gval_r = np.gradient(-yval_r)\n",
    "\n",
    "# View shoreline position through time\n",
    "strata.viewData(x0 = xval, y0 = yval_r, width = 600, height = 400, linesize = 3, color = '#6666FF',\n",
    "               title='Shoreline trajectory',xlegend='display steps',ylegend='shoreline position in metres')\n",
    "\n",
    "# Define the gradient evolution\n",
    "strata.viewData(x0 = xval, y0 = gval_r, width = 600, height = 400, linesize = 3, color = '#f4a142',\n",
    "               title='Shoreline trajectory gradient',xlegend='display steps',ylegend='gradient shoreline position')"
   ]
  },
  {
   "cell_type": "markdown",
   "metadata": {},
   "source": [
    "We will assign 4 different colors based on relative shoreline change. To visualise the colors you can copy the html code below in the following [website](https://www.w3schools.com/cssref/tryit.asp?filename=trycss_color_rgba):\n",
    "\n",
    "```html\n",
    "<!DOCTYPE html><html>\n",
    "  <head>\n",
    "\t<style>\n",
    "      #p1 {background-color:rgba(56,110,164,0.8);}\n",
    "      #p2 {background-color:rgba(60,165,67,0.8);}\n",
    "      #p3 {background-color:rgba(112,54,127,0.8);}\n",
    "      #p4 {background-color:rgba(246,146,80,0.8);}\n",
    "    </style>\n",
    "  </head>\n",
    "  <body>\n",
    "    <p>RGB colors with opacity for Systems-Tracts:</p>\n",
    "    <p id=\"p1\">TC</p>\n",
    "    <p id=\"p2\">DRC</p>\n",
    "    <p id=\"p3\">ARC</p>\n",
    "    <p id=\"p4\">STC</p>\n",
    "  </body>\n",
    "</html>\n",
    "```\n",
    "Define different colors for different shoreline trajectory classes"
   ]
  },
  {
   "cell_type": "code",
   "execution_count": null,
   "metadata": {
    "collapsed": true
   },
   "outputs": [],
   "source": [
    "# Default color used: \n",
    "TC = 'rgba(56,110,164,0.8)'\n",
    "STC = 'rgba(60,165,67,0.8)'  \n",
    "ARC = 'rgba(112,54,127,0.8)'\n",
    "DRC = 'rgba(252,149,7,0.8)'\n",
    "\n",
    "# You can change them by specifying new values in the function\n",
    "STcolors_ST = strata.build_shoreTrajectory(xval, yval, gval, sealevel, strat.nz, cTC=TC, cDRC=DRC, cARC=ARC, cSTC=STC)\n",
    "# For a different side\n",
    "STcolors_ST_r = strata.build_shoreTrajectory(xval, yval_r, gval_r, sealevel, strat.nz, cTC=TC, cDRC=DRC, cARC=ARC, cSTC=STC)"
   ]
  },
  {
   "cell_type": "markdown",
   "metadata": {},
   "source": [
    "## Plotting the resulting shoreline trajectory classes"
   ]
  },
  {
   "cell_type": "code",
   "execution_count": null,
   "metadata": {},
   "outputs": [],
   "source": [
    "strata.viewSectionST(width = 800, height = 500, cs = strat, colors = STcolors_ST, \n",
    "                     dnlay = 2, rangeX=[0, 10000], rangeY=[-600,200], \n",
    "                     linesize = 0.5, title = 'Classes interpreted based on shoreline trajectory (ST)')"
   ]
  },
  {
   "cell_type": "code",
   "execution_count": null,
   "metadata": {},
   "outputs": [],
   "source": [
    "strata.viewSectionST(width = 800, height = 500, cs = strat, colors = STcolors_ST_r, \n",
    "                     dnlay = 2, rangeX=[14000, 24000], rangeY=[-600,200], \n",
    "                     linesize = 0.5, title = 'Classes interpreted based on shoreline trajectory (ST)')"
   ]
  },
  {
   "cell_type": "markdown",
   "metadata": {},
   "source": [
    "# 4 - Accommodation succession method\n",
    "\n",
    "This accommodation succession method is referred to [Neal & Abreu (2009)]((https://www.researchgate.net/publication/249521744_Sequence_stratigraphy_hierarchy_and_the_accommodation_succession_method)), which is based on the relationship between the rate of changes in accommodation and sedimentation. \n",
    "<img src=\"images/SystemsTract_AS.png\" alt=\"Systems tract defined based on shoreline trajectory\"  width=\"600\" height=\"400\" border=\"10\" />\n",
    "\n",
    "- Retrogradation sequence set ** RSS **\n",
    "- Aggradation to Progradation to Degradation (maybe) sequence set ** APDSS **\n",
    "- Progradation to Aggradation sequence set ** PASS **"
   ]
  },
  {
   "cell_type": "code",
   "execution_count": null,
   "metadata": {},
   "outputs": [],
   "source": [
    "# left-hand side\n",
    "xval = np.linspace(0,strat.nz,npts)\n",
    "ASval = strat.accom_l-strat.sed_l\n",
    "gval = np.gradient(ASval)\n",
    "\n",
    "# Accommodation (A) and sedimentation (S) change differences\n",
    "strata.viewData(x0 = xval, y0 = ASval, width = 600, height = 400, linesize = 3, \n",
    "                color = '#6666FF',title='Change between accomodation & sedimentation',xlegend='display steps',\n",
    "                ylegend='A-S')\n",
    "\n",
    "# Define the gradient evolution\n",
    "strata.viewData(x0 = xval, y0 = gval, width = 600, height = 400, linesize = 3, color = '#f4a142',\n",
    "               title='A&S gradient',xlegend='display steps',ylegend='gradient A&S')"
   ]
  },
  {
   "cell_type": "code",
   "execution_count": null,
   "metadata": {},
   "outputs": [],
   "source": [
    "# right-hand side\n",
    "xval = np.linspace(0,strat.nz,npts)\n",
    "ASval_r = strat.accom_r-strat.sed_r\n",
    "gval_r = np.gradient(ASval_r)\n",
    "\n",
    "# Accommodation (A) and sedimentation (S) change differences\n",
    "strata.viewData(x0 = xval, y0 = ASval_r, width = 600, height = 400, linesize = 3, \n",
    "                color = '#6666FF',title='Change between accomodation & sedimentation',xlegend='display steps',\n",
    "                ylegend='A-S')\n",
    "\n",
    "# Define the gradient evolution\n",
    "strata.viewData(x0 = xval, y0 = gval_r, width = 600, height = 400, linesize = 3, color = '#f4a142',\n",
    "               title='A&S gradient',xlegend='display steps',ylegend='gradient A&S')"
   ]
  },
  {
   "cell_type": "markdown",
   "metadata": {},
   "source": [
    "We will assign 3 different colors based on relative accommodation space and sedimentation rate. To visualise the colors you can copy the html code below in the following [website](https://www.w3schools.com/cssref/tryit.asp?filename=trycss_color_rgba):\n",
    "\n",
    "```html\n",
    "<!DOCTYPE html><html>\n",
    "  <head>\n",
    "\t<style>\n",
    "      #p1 {background-color:rgba(51,79,217,0.8);}\n",
    "      #p2 {background-color:rgba(252,149,7,0.8);}\n",
    "      #p3 {background-color:rgba(15,112,2,0.8);}\n",
    "    </style>\n",
    "  </head>\n",
    "  <body>\n",
    "    <p>RGB colors with opacity for Systems-Tracts:</p>\n",
    "    <p id=\"p1\">RSS</p>\n",
    "    <p id=\"p2\">PASS</p>\n",
    "    <p id=\"p3\">APDSS</p>\n",
    "  </body>\n",
    "</html>\n",
    "```\n",
    "\n",
    "Define different colors for different accommodation succession sequence sets."
   ]
  },
  {
   "cell_type": "code",
   "execution_count": null,
   "metadata": {
    "collapsed": true
   },
   "outputs": [],
   "source": [
    "# Default color used: \n",
    "R = 'rgba(51,79,217,0.8)' \n",
    "APD = 'rgba(252,149,7,0.8)' \n",
    "PA= 'rgba(15,112,2,0.8)'\n",
    "\n",
    "# You can change them by specifying new values in the function\n",
    "STcolors_AS = strata.build_accomSuccession(xval,ASval,gval,strat.nz,cR=R,cPA=PA,cAPD=APD)\n",
    "# For a different side\n",
    "STcolors_AS_r = strata.build_accomSuccession(xval,ASval_r,gval_r,strat.nz,cR=R,cPA=PA,cAPD=APD)"
   ]
  },
  {
   "cell_type": "markdown",
   "metadata": {},
   "source": [
    "## Plotting the resulting accommodation succession sequence sets"
   ]
  },
  {
   "cell_type": "code",
   "execution_count": null,
   "metadata": {},
   "outputs": [],
   "source": [
    "# Plot the cross-section of left-hand side. rangeX=[0, 10000] for the left-hand side\n",
    "strata.viewSectionST(width = 800, height = 500, cs = strat, colors = STcolors_AS, dnlay = 2, \n",
    "                     rangeX=[0, 10000], rangeY=[-600,200], linesize = 0.5, \n",
    "                     title = 'Sequence sets interpreted based on change of accommodation and sedimentation (AS)')"
   ]
  },
  {
   "cell_type": "code",
   "execution_count": null,
   "metadata": {},
   "outputs": [],
   "source": [
    "# Plot the cross-section of left-hand side. rangeX=[14000, 24000] for the right-hand side\n",
    "strata.viewSectionST(width = 800, height = 500, cs = strat, colors = STcolors_AS_r, dnlay = 2, \n",
    "                     rangeX=[14000, 24000], rangeY=[-600,200], linesize = 0.5, \n",
    "                     title = 'Sequence sets interpreted based on change of accommodation and sedimentation (AS)')"
   ]
  },
  {
   "cell_type": "markdown",
   "metadata": {
    "collapsed": true
   },
   "source": [
    "# 5 - Depositional environments\n",
    "\n",
    "We define paleo-depositional environments (depositional facies) based on deposition depth. For example,\n",
    "\n",
    "- **alluvial plain**:   30m above sea level\n",
    "- **shoreface**:        0 - 50m below sea level\n",
    "- **shallow marine**:   50 - 200m below sea level\n",
    "- **slope**:            200 - 400m below sea level\n",
    "- **deep marine**:      400 - 600m below sea level\n",
    "- **ocean basin**:      > 600m below sea level"
   ]
  },
  {
   "cell_type": "code",
   "execution_count": null,
   "metadata": {
    "collapsed": true
   },
   "outputs": [],
   "source": [
    "# help(strata.depthID)"
   ]
  },
  {
   "cell_type": "code",
   "execution_count": null,
   "metadata": {
    "collapsed": true
   },
   "outputs": [],
   "source": [
    "# Specify the range of water depth (relative to sea level, positive = below sea level) of each depositional environment\n",
    "envIDs = [-30, 0, 50, 150]  \n",
    "\n",
    "# Get the position of depositional environments on each extracted layer\n",
    "waterIDs_left = np.zeros((len(envIDs), npts),dtype=int)\n",
    "waterIDs_right = np.zeros((len(envIDs), npts),dtype=int)\n",
    "for i in range(0,npts):\n",
    "    waterIDs_left[:,i] = strata.depthID(cs = strat_all[i], sealevel = sealevel[i], envIDs = envIDs[::-1], side = 'left')\n",
    "    waterIDs_right[:,i] = strata.depthID(cs = strat_all[i], sealevel = sealevel[i], envIDs = envIDs, side = 'right')\n",
    "    \n",
    "# Add the endpoint of deposition to the depositional environments extent\n",
    "envi_left = np.concatenate((np.array([strat.depoend_l]), waterIDs_left), axis=0)\n",
    "envi_right = np.concatenate((waterIDs_right, np.array([strat.depoend_r])), axis=0)\n",
    "\n",
    "# Create the stacking array\n",
    "envi_left_stack = np.array(envi_left,)\n",
    "for i in range(1,envi_left.shape[0]):\n",
    "    envi_left_stack[i] = envi_left[i] - envi_left[i-1]\n",
    "envi_right_stack = np.array(envi_right,)\n",
    "for i in range(1,envi_right.shape[0]):\n",
    "    envi_right_stack[i] = envi_right[i] - envi_right[i-1]"
   ]
  },
  {
   "cell_type": "markdown",
   "metadata": {},
   "source": [
    "## Wheeler Diagram\n",
    "\n",
    "Wheeler diagram (or chronostratigraphic chart) is a powerful tool to document unconformities between sequences, and to understand the stacking patterns of sedimentary successions and their relationship to sea level. It displays the horizontal distribution of contemporaneous sedimentary layer sequences, as well as hiatuses in sedimentation. "
   ]
  },
  {
   "cell_type": "code",
   "execution_count": null,
   "metadata": {
    "collapsed": true
   },
   "outputs": [],
   "source": [
    "# help(strata.viewWheeler) "
   ]
  },
  {
   "cell_type": "code",
   "execution_count": null,
   "metadata": {},
   "outputs": [],
   "source": [
    "# Left-hand side: use envi_left for rangeE and strat.shoreID_l for shoreID\n",
    "timeMA = [x/1e3 for x in Time] # change the unit to be kyr\n",
    "color = ['white', 'c', 'khaki', 'sandybrown', 'limegreen']\n",
    "# \n",
    "# You may need to adjust the height_bar and rangeX\n",
    "strata.viewWheeler(width = 7, height = 4, time = timeMA, rangeE = strat_all[0].dist[envi_left_stack.astype(int)], \n",
    "                   shoreID = strat_all[0].dist[strat.shoreID_l.astype(int)], height_bar = 10, npts = npts, \n",
    "                   color = color, rangeX = [0, 10000], rangeY = [0,500], linesize = 3, title = 'Wheeler Diagram', \n",
    "                   xlegend = 'Distance (m)', ylegend = 'Time (kyr)')"
   ]
  },
  {
   "cell_type": "code",
   "execution_count": null,
   "metadata": {},
   "outputs": [],
   "source": [
    "# Right-hand side: use envi_right for rangeE and strat.shoreID_r for shoreID\n",
    "timeMA = [x/1e3 for x in Time] # change the unit to be kyr\n",
    "color = ['white','limegreen','sandybrown','khaki','c']\n",
    "# \n",
    "# You may need to adjust the height_bar and rangeX\n",
    "strata.viewWheeler(width = 7, height = 4, time = timeMA, rangeE = strat_all[0].dist[envi_right_stack.astype(int)], \n",
    "                   shoreID = strat_all[0].dist[strat.shoreID_r.astype(int)], height_bar = 10, npts = npts, \n",
    "                   color = color, rangeX = [12000, 24000], rangeY = [0,500], linesize = 3, title = 'Wheeler Diagram', \n",
    "                   xlegend = 'Distance (m)', ylegend = 'Time (kyr)')"
   ]
  },
  {
   "cell_type": "markdown",
   "metadata": {},
   "source": [
    "# Vertical stacking pattern\n",
    "\n",
    "Vertical stacking patterns (synthetic wells) could also be extracted at different positions to show the thickness of parasequences and the trend of depositional units through time.\n",
    "\n",
    "To extract the vertical staking, first we need to calculate the stacked strata thickness at each position, then color the strata according to the water depth when they are deposited."
   ]
  },
  {
   "cell_type": "code",
   "execution_count": null,
   "metadata": {},
   "outputs": [],
   "source": [
    "strata.viewData(x0 = None, y0 = strat.dist, width = 600, height = 400, linesize = 3, \n",
    "                color = '#6666FF',title='Position on the cross-section',xlegend='Position',ylegend='Distance')"
   ]
  },
  {
   "cell_type": "markdown",
   "metadata": {},
   "source": [
    "Take the position where you want to extract the vertical wells. For example, we want to extract the wells at [5km, 6km, 17km, 18km], whose indices in the strat.dist are [102, 123, 347, 367]. "
   ]
  },
  {
   "cell_type": "code",
   "execution_count": null,
   "metadata": {
    "collapsed": true
   },
   "outputs": [],
   "source": [
    "# position of wells\n",
    "posit = [102, 123, 347, 367] \n",
    "color = ['limegreen','sandybrown','khaki','c']\n",
    "# Build color list for vertical stackings\n",
    "color_fill = []\n",
    "for i in range(len(posit)):\n",
    "    for j in range(0,strat.nz,nstep):\n",
    "        if ((strat.secElev[j][posit[i]]) > (- envIDs[0])):\n",
    "            color_fill.append(color[0])\n",
    "        elif (strat.secElev[j][posit[i]]) > (- envIDs[1]):\n",
    "            color_fill.append(color[0])\n",
    "        elif (strat.secElev[j][posit[i]]) > (- envIDs[2]):\n",
    "            color_fill.append(color[1])\n",
    "        elif (strat.secElev[j][posit[i]]) > (- envIDs[3]):\n",
    "            color_fill.append(color[2])\n",
    "        else:\n",
    "            color_fill.append(color[3])\n",
    "colorFill = np.reshape(color_fill, (len(posit), int(strat.nz/nstep)))\n",
    "# \n",
    "# Calculate the thickness of the layers in each vertical stacking\n",
    "layth = []\n",
    "for m in range(len(posit)):\n",
    "    nz = strat.nz-1\n",
    "    layth.append(strat.secDep[nz][posit[m]])\n",
    "    for n in range(1,int(strat.nz/nstep)):\n",
    "        layth.append(-sum(strat.secTh[(nz-n*nstep):(nz-(n-1)*nstep)])[posit[m]])\n",
    "layTh = np.reshape(layth, (len(posit), int(strat.nz/nstep)))"
   ]
  },
  {
   "cell_type": "code",
   "execution_count": null,
   "metadata": {},
   "outputs": [],
   "source": [
    "import matplotlib as mpl\n",
    "fig = plt.figure(figsize = (4,5))\n",
    "plt.rc(\"font\", size=10)\n",
    "# \n",
    "ax = fig.add_axes([0.2,0.06,0.82,0.91])\n",
    "data = layTh\n",
    "bottom1 = np.cumsum(data[0], axis=0)\n",
    "colors_1 = np.fliplr([colorFill[0]])[0]\n",
    "plt.bar(0, data[0][0], color = 'w', edgecolor='lightgrey', hatch = '/')\n",
    "for j in range(1, data[0].shape[0]):\n",
    "    plt.bar(0, data[0][j], color=colors_1[j], edgecolor='black', bottom=bottom1[j-1])\n",
    "# \n",
    "bottom2 = np.cumsum(data[1], axis=0)\n",
    "colors_2 = np.fliplr([colorFill[1]])[0]\n",
    "plt.bar(2, data[1][0], color = 'w', edgecolor='lightgrey', hatch = '/')\n",
    "for j in range(1, data[1].shape[0]):\n",
    "    plt.bar(2, data[1][j], color=colors_2[j], edgecolor='black', bottom=bottom2[j-1])\n",
    "# \n",
    "bottom3 = np.cumsum(data[2], axis=0)\n",
    "colors_3 = np.fliplr([colorFill[2]])[0]\n",
    "plt.bar(4, data[2][0], color = 'w', edgecolor='lightgrey', hatch = '/')\n",
    "for j in range(1, data[2].shape[0]):\n",
    "    plt.bar(4, data[2][j], color=colors_3[j], edgecolor='black', bottom=bottom3[j-1])\n",
    "#\n",
    "bottom4 = np.cumsum(data[3], axis=0)\n",
    "colors_4 = np.fliplr([colorFill[3]])[0]\n",
    "plt.bar(6, data[3][0], color = 'w', edgecolor='lightgrey', hatch = '/')\n",
    "for j in range(1, data[3].shape[0]):\n",
    "    plt.bar(6, data[3][j], color=colors_4[j], edgecolor='black', bottom=bottom4[j-1])\n",
    "#\n",
    "ax.spines['right'].set_color('none')\n",
    "ax.spines['top'].set_color('none')\n",
    "ax.spines['bottom'].set_color('none')\n",
    "ax.axes.get_xaxis().set_visible(False)\n",
    "ax.tick_params(axis='both', labelsize=10)\n",
    "ax.yaxis.set_ticks_position('left')\n",
    "plt.xlim(-0.4,8)\n",
    "# plt.ylim(-40,10)\n",
    "plt.ylabel('Elevation (m)',fontsize=12)\n",
    "plt.yticks(fontsize=12)\n",
    "# \n",
    "# fig.savefig(\"/workspace/volume/delta/figures/wells.png\", dpi=400)"
   ]
  },
  {
   "cell_type": "code",
   "execution_count": null,
   "metadata": {
    "collapsed": true
   },
   "outputs": [],
   "source": []
  }
 ],
 "metadata": {
  "anaconda-cloud": {},
  "kernelspec": {
   "display_name": "Python 2",
   "language": "python",
   "name": "python2"
  },
  "language_info": {
   "codemirror_mode": {
    "name": "ipython",
    "version": 2
   },
   "file_extension": ".py",
   "mimetype": "text/x-python",
   "name": "python",
   "nbconvert_exporter": "python",
   "pygments_lexer": "ipython2",
   "version": "2.7.6"
  }
 },
 "nbformat": 4,
 "nbformat_minor": 1
}
