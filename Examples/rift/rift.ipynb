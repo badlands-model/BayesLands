{
 "cells": [
  {
   "cell_type": "markdown",
   "metadata": {},
   "source": [
    "# Rift model\n",
    "\n",
    "_CREDIT_: **Heng Wu (Lynn)** -  College of Geosciences - China University of Petroleum\n",
    "\n",
    "<div align=\"center\">\n",
    "    <img src=\"image/rift.png\" alt=\"landscape evolution in a rift system\" width=\"750\" height=\"600\"/>\n",
    "</div>\n",
    "\n",
    "\n",
    "## Starting pyBadlands\n",
    "\n",
    "First we initialise the model and set the path to the **XmL** input file.\n",
    "\n",
    "You can edit the **XmL** configuration file at [/edit/volume/Examples/crater/crater.xml](/edit/volume/Examples/crater/crater.xml).\n",
    "\n",
    "To view the complete **XmL** options you can follow this link to github page: [complete.xml](https://github.com/badlands-model/pyBadlands/blob/master/Examples/input_complete.xml)."
   ]
  },
  {
   "cell_type": "code",
   "execution_count": null,
   "metadata": {
    "ExecuteTime": {
     "end_time": "2017-03-14T23:31:26.429068",
     "start_time": "2017-03-14T23:31:18.575146"
    },
    "scrolled": true
   },
   "outputs": [],
   "source": [
    "from pyBadlands.model import Model as badlandsModel\n",
    "# If you'd like to run this across an MPI cluster, instead use\n",
    "#from pyBadlands.remote import RemoteModel as badlandsModel\n",
    "\n",
    "# initialise model\n",
    "model = badlandsModel()\n",
    "model.load_xml('rift.xml')"
   ]
  },
  {
   "cell_type": "markdown",
   "metadata": {},
   "source": [
    "## Running pyBadlands\n",
    "\n",
    "We can run the model for a given period. The end time in the **XmL** input file is set to _250k years_ but you might want to run the model for a coupled of iterations and check the output before running the model for the entire simulation time. This is done by putting the time in the **run_to_time** function. \n",
    "\n",
    "Here we go for the full time directly... it should take less then 10 minutes on a single processor if you keep the other parameters unchanged."
   ]
  },
  {
   "cell_type": "code",
   "execution_count": null,
   "metadata": {
    "ExecuteTime": {
     "end_time": "2017-03-14T23:31:44.287007",
     "start_time": "2017-03-14T23:31:43.880246"
    }
   },
   "outputs": [],
   "source": [
    "model.run_to_time(250000)"
   ]
  },
  {
   "cell_type": "code",
   "execution_count": null,
   "metadata": {
    "collapsed": true
   },
   "outputs": [],
   "source": []
  }
 ],
 "metadata": {
  "kernelspec": {
   "display_name": "Python 2",
   "language": "python",
   "name": "python2"
  },
  "language_info": {
   "codemirror_mode": {
    "name": "ipython",
    "version": 2
   },
   "file_extension": ".py",
   "mimetype": "text/x-python",
   "name": "python",
   "nbconvert_exporter": "python",
   "pygments_lexer": "ipython2",
   "version": "2.7.6"
  }
 },
 "nbformat": 4,
 "nbformat_minor": 1
}
